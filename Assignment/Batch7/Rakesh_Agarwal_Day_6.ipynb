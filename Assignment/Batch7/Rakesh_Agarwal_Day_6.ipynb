{
 "cells": [
  {
   "cell_type": "markdown",
   "metadata": {},
   "source": [
    "# 1. Bank Account class with two attributes.\n",
    " a)Ownername\n",
    " b)Balance\n",
    "\n",
    "And Two Methods\n",
    " \n",
    " a)Deposite\n",
    " b)Withdraw\n"
   ]
  },
  {
   "cell_type": "code",
   "execution_count": 21,
   "metadata": {},
   "outputs": [],
   "source": [
    "class Bank():\n",
    "    balance=0\n",
    "    def __init__(self, ownername):\n",
    "        self.ownername = ownername\n",
    "        print(\"Hello \",self.ownername.capitalize())\n",
    "        print(\"Your current Available Balance is -\",Bank.balance)\n",
    "        \n",
    "    def deposit(self):\n",
    "        amount= float(input(\"Please enter amount to Deposit - \"))\n",
    "        Bank.balance = Bank.balance+amount\n",
    "        print(\"Your Available Balance is -\",Bank.balance)\n",
    "    def withdraw(self):\n",
    "        withdraw=float(input(\"Please enter the amount to withdraw - \"))\n",
    "        Bank.balance -= withdraw\n",
    "        print(\"Your Balance After Withdraw is -\",Bank.balance)"
   ]
  },
  {
   "cell_type": "code",
   "execution_count": 22,
   "metadata": {},
   "outputs": [
    {
     "name": "stdout",
     "output_type": "stream",
     "text": [
      "Hello  Rakesh\n",
      "Your current Available Balance is - 0\n"
     ]
    }
   ],
   "source": [
    "rakesh=Bank(\"rakesh\")"
   ]
  },
  {
   "cell_type": "code",
   "execution_count": 23,
   "metadata": {},
   "outputs": [
    {
     "name": "stdout",
     "output_type": "stream",
     "text": [
      "Please enter amount to Deposit - 50\n",
      "Your Available Balance is - 50.0\n"
     ]
    }
   ],
   "source": [
    "rakesh.deposit()"
   ]
  },
  {
   "cell_type": "code",
   "execution_count": 24,
   "metadata": {},
   "outputs": [
    {
     "name": "stdout",
     "output_type": "stream",
     "text": [
      "Please enter the amount to withdraw - 10\n",
      "Your Balance After Withdraw is - 40.0\n"
     ]
    }
   ],
   "source": [
    "rakesh.withdraw()"
   ]
  },
  {
   "cell_type": "code",
   "execution_count": 25,
   "metadata": {},
   "outputs": [
    {
     "name": "stdout",
     "output_type": "stream",
     "text": [
      "Please enter amount to Deposit - 20\n",
      "Your Available Balance is - 60.0\n"
     ]
    }
   ],
   "source": [
    "rakesh.deposit()"
   ]
  },
  {
   "cell_type": "code",
   "execution_count": 26,
   "metadata": {},
   "outputs": [
    {
     "name": "stdout",
     "output_type": "stream",
     "text": [
      "Please enter the amount to withdraw - 10\n",
      "Your Balance After Withdraw is - 50.0\n"
     ]
    }
   ],
   "source": [
    "rakesh.withdraw()"
   ]
  },
  {
   "cell_type": "code",
   "execution_count": null,
   "metadata": {},
   "outputs": [],
   "source": []
  }
 ],
 "metadata": {
  "kernelspec": {
   "display_name": "Python 3",
   "language": "python",
   "name": "python3"
  },
  "language_info": {
   "codemirror_mode": {
    "name": "ipython",
    "version": 3
   },
   "file_extension": ".py",
   "mimetype": "text/x-python",
   "name": "python",
   "nbconvert_exporter": "python",
   "pygments_lexer": "ipython3",
   "version": "3.8.3"
  }
 },
 "nbformat": 4,
 "nbformat_minor": 4
}
