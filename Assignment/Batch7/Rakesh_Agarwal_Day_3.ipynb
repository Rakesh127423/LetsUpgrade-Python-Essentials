{
 "cells": [
  {
   "cell_type": "markdown",
   "metadata": {},
   "source": [
    "# 1. You all are pilots. You have to land a plane. The altitude required for landing a plane is 1000ft, if it is less than that tell pilot to land the plane, or it is more than that but less than 5000ft ask pilot to come down to 1000ft. else if it is more than 5000ft ask pilot to go around and try again."
   ]
  },
  {
   "cell_type": "code",
   "execution_count": 13,
   "metadata": {},
   "outputs": [
    {
     "name": "stdout",
     "output_type": "stream",
     "text": [
      "Enter altitude of the Plane - 1001\n"
     ]
    }
   ],
   "source": [
    "ans=input(\"Enter altitude of the Plane - \") #Taking input from user\n",
    "a=int(ans) #converting to integer\n",
    "b=1000\n",
    "c=5000"
   ]
  },
  {
   "cell_type": "code",
   "execution_count": 14,
   "metadata": {},
   "outputs": [
    {
     "name": "stdout",
     "output_type": "stream",
     "text": [
      "Please come down to 1000ft\n"
     ]
    }
   ],
   "source": [
    "if a <= b: #Checking altitued less than 1000ft or equal to 1000ft\n",
    "    print(\"It is safe to Land\")\n",
    "elif a > b and a < c: #Checking if altitued is greater than 1000ft and less than 5000ft\n",
    "    print(\"Please come down to 1000ft\")\n",
    "else: #If not true in both of the above condition altitude greater than 5000ft\n",
    "    print(\"Go around and try again\")"
   ]
  },
  {
   "cell_type": "markdown",
   "metadata": {},
   "source": [
    "# 2. Using For Loop please print all the prime number between 1-200 using FOR LOOP AND RANGE Function."
   ]
  },
  {
   "cell_type": "code",
   "execution_count": 13,
   "metadata": {
    "scrolled": true
   },
   "outputs": [
    {
     "name": "stdout",
     "output_type": "stream",
     "text": [
      "1 is prime number\n",
      "2 is prime number\n",
      "3 is prime number\n",
      "5 is prime number\n",
      "7 is prime number\n",
      "11 is prime number\n",
      "13 is prime number\n",
      "17 is prime number\n",
      "19 is prime number\n",
      "23 is prime number\n",
      "29 is prime number\n",
      "31 is prime number\n",
      "37 is prime number\n",
      "41 is prime number\n",
      "43 is prime number\n",
      "47 is prime number\n",
      "53 is prime number\n",
      "59 is prime number\n",
      "61 is prime number\n",
      "67 is prime number\n",
      "71 is prime number\n",
      "73 is prime number\n",
      "79 is prime number\n",
      "83 is prime number\n",
      "89 is prime number\n",
      "97 is prime number\n",
      "101 is prime number\n",
      "103 is prime number\n",
      "107 is prime number\n",
      "109 is prime number\n",
      "113 is prime number\n",
      "127 is prime number\n",
      "131 is prime number\n",
      "137 is prime number\n",
      "139 is prime number\n",
      "149 is prime number\n",
      "151 is prime number\n",
      "157 is prime number\n",
      "163 is prime number\n",
      "167 is prime number\n",
      "173 is prime number\n",
      "179 is prime number\n",
      "181 is prime number\n",
      "191 is prime number\n",
      "193 is prime number\n",
      "197 is prime number\n",
      "199 is prime number\n"
     ]
    }
   ],
   "source": [
    "for i in range(1,201):\n",
    "    count=0\n",
    "    for j in range(2,i):\n",
    "        if i%j==0:\n",
    "            count +=1\n",
    "            break\n",
    "    if (count==0):\n",
    "        print(i, \"is prime number\")"
   ]
  },
  {
   "cell_type": "code",
   "execution_count": null,
   "metadata": {},
   "outputs": [],
   "source": []
  }
 ],
 "metadata": {
  "kernelspec": {
   "display_name": "Python 3",
   "language": "python",
   "name": "python3"
  },
  "language_info": {
   "codemirror_mode": {
    "name": "ipython",
    "version": 3
   },
   "file_extension": ".py",
   "mimetype": "text/x-python",
   "name": "python",
   "nbconvert_exporter": "python",
   "pygments_lexer": "ipython3",
   "version": "3.8.3"
  }
 },
 "nbformat": 4,
 "nbformat_minor": 4
}
